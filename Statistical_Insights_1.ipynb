{
 "cells": [
  {
   "cell_type": "code",
   "execution_count": null,
   "id": "0a1f0694",
   "metadata": {},
   "outputs": [],
   "source": [
    "import pandas as pd\n",
    "import numpy as np\n"
   ]
  },
  {
   "cell_type": "code",
   "execution_count": 5,
   "id": "324ad8f7",
   "metadata": {},
   "outputs": [],
   "source": [
    "inventory_df = pd.read_excel(r\"C:\\Users\\traju\\OneDrive\\Desktop\\data\\Hospital Analystics\\Dataset_2\\Updated_Datasets\\Updated_Enhanced_Inventory_20250909_.xlsx\")\n",
    "patients_df = pd.read_excel(r\"C:\\Users\\traju\\OneDrive\\Desktop\\data\\Hospital Analystics\\Dataset_2\\Updated_Datasets\\Updated_Enhanced_Patients_20250909_.xlsx\")\n",
    "purchase_orders_df = pd.read_excel(r\"C:\\Users\\traju\\OneDrive\\Desktop\\data\\Hospital Analystics\\Dataset_2\\Updated_Datasets\\Updated_Enhanced_Supply_Chain_20250909.xlsx\")\n",
    "deliveries_df = pd.read_excel(r\"C:\\Users\\traju\\OneDrive\\Desktop\\data\\Hospital Analystics\\Dataset_2\\Updated_Datasets\\Updated_Enhanced_Supply_Chain_20250909.xlsx\")\n",
    "departments_df = pd.read_excel(r\"C:\\Users\\traju\\OneDrive\\Desktop\\data\\Hospital Analystics\\Dataset_2\\Updated_Datasets\\Updated_Hospital_Dataset_20250909_193847.xlsx\")\n",
    "physicians_df = pd.read_excel(r\"C:\\Users\\traju\\OneDrive\\Desktop\\data\\Hospital Analystics\\Dataset_2\\Updated_Datasets\\Updated_Hospital_Dataset_20250909_193847.xlsx\")\n",
    "skus_df = pd.read_excel(r\"C:\\Users\\traju\\OneDrive\\Desktop\\data\\Hospital Analystics\\Dataset_2\\Updated_Datasets\\Updated_Hospital_Dataset_20250909_193847.xlsx\")\n",
    "vendors_df = pd.read_excel(r\"C:\\Users\\traju\\OneDrive\\Desktop\\data\\Hospital Analystics\\Dataset_2\\Updated_Datasets\\Updated_Hospital_Dataset_20250909_193847.xlsx\")\n",
    "transactions_df = pd.read_excel(r\"C:\\Users\\traju\\OneDrive\\Desktop\\data\\Hospital Analystics\\Dataset_2\\Updated_Datasets\\Updated_Enhanced_Transactions_2024_20250909.xlsx\")\n"
   ]
  },
  {
   "cell_type": "code",
   "execution_count": 41,
   "id": "619bddcd",
   "metadata": {},
   "outputs": [
    {
     "name": "stdout",
     "output_type": "stream",
     "text": [
      " Inventory Stock Status: \n",
      "\n",
      "Distribution of Inventory Stock Status:\n",
      "stock_status\n",
      "Critical_Low    641\n",
      "Low             280\n",
      "Adequate        123\n",
      "Normal          108\n",
      "Overstocked      45\n",
      "Name: count, dtype: int64\n",
      "--------------------------------------------------\n"
     ]
    }
   ],
   "source": [
    "\n",
    "# Inventory Stock Status - Count of items for each stock_status\n",
    "print(\" Inventory Stock Status: \")\n",
    "stock_status_distribution = inventory_df['stock_status'].value_counts()\n",
    "print(\"\\nDistribution of Inventory Stock Status:\")\n",
    "print(stock_status_distribution)\n",
    "print(\"-\" * 50)"
   ]
  },
  {
   "cell_type": "code",
   "execution_count": 42,
   "id": "223fe33e",
   "metadata": {},
   "outputs": [
    {
     "name": "stdout",
     "output_type": "stream",
     "text": [
      " Patient Demographics: \n",
      "\n",
      "Distribution of Patient Age Groups:\n",
      "age_group\n",
      "19-35    14909\n",
      "0-18     12331\n",
      "36-50    10042\n",
      "51-65     7677\n",
      "65+       5041\n",
      "Name: count, dtype: int64\n",
      "\n",
      "Distribution of Patient Types:\n",
      "patient_type\n",
      "Inpatient     20125\n",
      "Emergency     15010\n",
      "Outpatient    14865\n",
      "Name: count, dtype: int64\n",
      "--------------------------------------------------\n"
     ]
    }
   ],
   "source": [
    "\n",
    "# Patient Demographics - Distribution of age_group and patient_type\n",
    "print(\" Patient Demographics: \")\n",
    "patient_age_distribution = patients_df['age_group'].value_counts()\n",
    "patient_type_distribution = patients_df['patient_type'].value_counts()\n",
    "print(\"\\nDistribution of Patient Age Groups:\")\n",
    "print(patient_age_distribution)\n",
    "print(\"\\nDistribution of Patient Types:\")\n",
    "print(patient_type_distribution)\n",
    "print(\"-\" * 50)"
   ]
  },
  {
   "cell_type": "code",
   "execution_count": 43,
   "id": "9930415f",
   "metadata": {},
   "outputs": [
    {
     "name": "stdout",
     "output_type": "stream",
     "text": [
      " Supply Chain Urgency: \n",
      "\n",
      "Distribution of Urgency Levels in Purchase Orders:\n",
      "urgency_level\n",
      "Normal       8667\n",
      "Urgent       2418\n",
      "Emergency    1343\n",
      "Name: count, dtype: int64\n",
      "--------------------------------------------------\n"
     ]
    }
   ],
   "source": [
    "\n",
    "#  Supply Chain Urgency - Distribution of urgency_level in purchase orders\n",
    "print(\" Supply Chain Urgency: \")\n",
    "po_urgency_distribution = purchase_orders_df['urgency_level'].value_counts()\n",
    "print(\"\\nDistribution of Urgency Levels in Purchase Orders:\")\n",
    "print(po_urgency_distribution)\n",
    "print(\"-\" * 50)"
   ]
  },
  {
   "cell_type": "code",
   "execution_count": 44,
   "id": "740a39d4",
   "metadata": {},
   "outputs": [
    {
     "name": "stdout",
     "output_type": "stream",
     "text": [
      " Transaction Cost Analysis: \n",
      "\n",
      "Total and Average Cost by Transaction Type:\n",
      "                           sum        mean  median\n",
      "transaction_type                                  \n",
      "Prescription      1.023923e+08  238.738492   124.6\n",
      "Procedure         3.743370e+07  308.680648   216.2\n",
      "--------------------------------------------------\n"
     ]
    }
   ],
   "source": [
    "\n",
    "# Transaction Cost Analysis - Total and average cost by transaction type\n",
    "print(\" Transaction Cost Analysis: \")\n",
    "transaction_cost_analysis = transactions_df.groupby('transaction_type')['total_cost'].agg(['sum', 'mean', 'median']).sort_values(by='sum', ascending=False)\n",
    "print(\"\\nTotal and Average Cost by Transaction Type:\")\n",
    "print(transaction_cost_analysis)\n",
    "print(\"-\" * 50)"
   ]
  },
  {
   "cell_type": "code",
   "execution_count": 45,
   "id": "ff489d72",
   "metadata": {},
   "outputs": [
    {
     "name": "stdout",
     "output_type": "stream",
     "text": [
      "Insight 8: Bounced Transaction Analysis: \n",
      "\n",
      "Total Revenue Lost from Bounced Transactions: $17,074,983.38\n",
      "\n",
      "Most Common Bounce Reasons:\n",
      "bounce_reason\n",
      "High Cost                 23366\n",
      "Insurance Issues          14688\n",
      "Patient Declined          11755\n",
      "Alternative Prescribed     8873\n",
      "Name: count, dtype: int64\n",
      "--------------------------------------------------\n"
     ]
    }
   ],
   "source": [
    "\n",
    "# Bounced Transaction Analysis - Total revenue lost and common bounce reasons\n",
    "print(\"Insight 8: Bounced Transaction Analysis: \")\n",
    "bounced_transactions = transactions_df[transactions_df['bounced'] == True]\n",
    "total_revenue_lost = bounced_transactions['revenue_lost'].sum()\n",
    "bounce_reason_counts = bounced_transactions['bounce_reason'].value_counts()\n",
    "print(f\"\\nTotal Revenue Lost from Bounced Transactions: ${total_revenue_lost:,.2f}\")\n",
    "print(\"\\nMost Common Bounce Reasons:\")\n",
    "print(bounce_reason_counts)\n",
    "print(\"-\" * 50)\n"
   ]
  },
  {
   "cell_type": "code",
   "execution_count": 53,
   "id": "2a87c740",
   "metadata": {},
   "outputs": [
    {
     "name": "stdout",
     "output_type": "stream",
     "text": [
      "\n",
      "Sample of data showing original and calculated length of stay:\n",
      "  patient_id admission_date      discharge_date  length_of_stay  \\\n",
      "0   PT000700     2023-01-01 2023-01-13 12:00:00            12.5   \n",
      "1   PT001116     2023-01-01 2023-01-03 00:00:00             2.0   \n",
      "2   PT001636     2023-01-01 2023-01-02 16:48:00             1.7   \n",
      "3   PT001698     2023-01-01 2023-01-01 12:00:00             0.5   \n",
      "4   PT002638     2023-01-01 2023-01-09 09:36:00             8.4   \n",
      "\n",
      "   calculated_length_of_stay  \n",
      "0                         12  \n",
      "1                          2  \n",
      "2                          1  \n",
      "3                          0  \n",
      "4                          8  \n",
      "\n",
      "Consistency check between original and calculated length of stay: True\n"
     ]
    }
   ],
   "source": [
    "\n",
    "# Convert 'admission_date' and 'discharge_date' columns to datetime objects\n",
    "patients_df['admission_date'] = pd.to_datetime(patients_df['admission_date'])\n",
    "patients_df['discharge_date'] = pd.to_datetime(patients_df['discharge_date'])\n",
    "\n",
    "# Calculate the length of stay in days\n",
    "patients_df['calculated_length_of_stay'] = (patients_df['discharge_date'] - patients_df['admission_date']).dt.days\n",
    "\n",
    "\n",
    "# Display a sample of the data to show the result\n",
    "print(\"\\nSample of data showing original and calculated length of stay:\")\n",
    "print(patients_df[['patient_id', 'admission_date', 'discharge_date', 'length_of_stay', 'calculated_length_of_stay']].head())\n",
    "\n",
    "# Perform a quick check to see if the calculated and original values are consistent\n",
    "are_consistent = (patients_df['length_of_stay'] - patients_df['calculated_length_of_stay']).abs().max() < 1\n",
    "print(f\"\\nConsistency check between original and calculated length of stay: {are_consistent}\")"
   ]
  },
  {
   "cell_type": "code",
   "execution_count": 46,
   "id": "52003670",
   "metadata": {},
   "outputs": [
    {
     "name": "stdout",
     "output_type": "stream",
     "text": [
      " Patient Financials by Demographics: \n",
      "age_group              0-18        19-35        36-50        51-65  \\\n",
      "insurance_type                                                       \n",
      "Government      14781220.79  23179219.05  17523338.23  15249475.77   \n",
      "Private          7699053.78  12196214.92   8613061.46   7508227.00   \n",
      "Self_Pay         2290219.19   3793915.58   2817051.01   2845643.51   \n",
      "\n",
      "age_group               65+  \n",
      "insurance_type               \n",
      "Government      13434894.77  \n",
      "Private          5973060.88  \n",
      "Self_Pay         1921419.37  \n",
      "--------------------------------------------------\n"
     ]
    }
   ],
   "source": [
    "\n",
    "# Patient Financials by Demographics (Insurance and Age)\n",
    "print(\" Patient Financials by Demographics: \")\n",
    "patient_transactions = pd.merge(transactions_df, patients_df, on='patient_id', how='left')\n",
    "financial_by_demographics = patient_transactions.groupby(['insurance_type', 'age_group'])['total_cost'].sum().unstack()\n",
    "print(financial_by_demographics)\n",
    "print(\"-\" * 50)\n"
   ]
  },
  {
   "cell_type": "code",
   "execution_count": 47,
   "id": "f4413822",
   "metadata": {},
   "outputs": [
    {
     "name": "stdout",
     "output_type": "stream",
     "text": [
      " Correlation between Inventory Turnover and Expiry:\n",
      "Correlation between Inventory Turnover Rate and Days to Expiry: 0.13\n",
      "--------------------------------------------------\n"
     ]
    }
   ],
   "source": [
    "\n",
    "# Correlation between Inventory Turnover and Expiry\n",
    "print(\" Correlation between Inventory Turnover and Expiry:\")\n",
    "turnover_expiry_correlation = inventory_df[['turnover_rate', 'days_to_expiry']].corr().iloc[0, 1]\n",
    "print(f\"Correlation between Inventory Turnover Rate and Days to Expiry: {turnover_expiry_correlation:.2f}\")\n",
    "print(\"-\" * 50)"
   ]
  }
 ],
 "metadata": {
  "kernelspec": {
   "display_name": ".venv",
   "language": "python",
   "name": "python3"
  },
  "language_info": {
   "codemirror_mode": {
    "name": "ipython",
    "version": 3
   },
   "file_extension": ".py",
   "mimetype": "text/x-python",
   "name": "python",
   "nbconvert_exporter": "python",
   "pygments_lexer": "ipython3",
   "version": "3.13.7"
  }
 },
 "nbformat": 4,
 "nbformat_minor": 5
}
